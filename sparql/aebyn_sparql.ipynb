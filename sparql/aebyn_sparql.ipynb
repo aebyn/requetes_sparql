{
 "cells": [
  {
   "cell_type": "code",
   "execution_count": null,
   "id": "7193a7fa",
   "metadata": {},
   "outputs": [],
   "source": [
    "###Mon carnet avec les requêtes sparql"
   ]
  },
  {
   "cell_type": "code",
   "execution_count": null,
   "id": "9a5c4397",
   "metadata": {},
   "outputs": [],
   "source": []
  },
  {
   "cell_type": "code",
   "execution_count": 9,
   "id": "931ec30a",
   "metadata": {},
   "outputs": [],
   "source": [
    "from SPARQLWrapper import SPARQLWrapper, SPARQLWrapper2, JSON, TURTLE, XML, RDFXML\n",
    "import pprint\n",
    "import csv\n",
    "# from bs4 import BeautifulSoup\n",
    "import matplotlib.pyplot as plt\n",
    "\n",
    "from collections import Counter\n",
    "from operator import itemgetter\n",
    "import pandas as pd\n",
    "import sqlite3 as sql"
   ]
  },
  {
   "cell_type": "code",
   "execution_count": 10,
   "id": "17833bc5",
   "metadata": {},
   "outputs": [],
   "source": [
    "sparql = SPARQLWrapper(\"https://dbpedia.org/sparql\") ##, returnFormat=RDFXML)"
   ]
  },
  {
   "cell_type": "code",
   "execution_count": 11,
   "id": "bf70c7af",
   "metadata": {},
   "outputs": [],
   "source": [
    "q_keynes = \"\"\"\n",
    "\n",
    "PREFIX dbpedia: <http://dbpedia.org/resource/>\n",
    "SELECT * WHERE {\n",
    "dbpedia:John_Maynard_Keynes ?p ?o\n",
    "}\n",
    "\n",
    "\"\"\""
   ]
  },
  {
   "cell_type": "code",
   "execution_count": 12,
   "id": "45be1d81",
   "metadata": {},
   "outputs": [],
   "source": [
    "sparql.setQuery(q_keynes)\n",
    "sparql.setReturnFormat(JSON)\n",
    "rc = sparql.queryAndConvert()\n",
    "# type(rc)"
   ]
  },
  {
   "cell_type": "code",
   "execution_count": 13,
   "id": "f5492623",
   "metadata": {},
   "outputs": [
    {
     "data": {
      "text/plain": [
       "937"
      ]
     },
     "execution_count": 13,
     "metadata": {},
     "output_type": "execute_result"
    }
   ],
   "source": [
    "# Nombre de lignes du résultat\n",
    "len(rc['results']['bindings'])"
   ]
  },
  {
   "cell_type": "code",
   "execution_count": null,
   "id": "5c0e5e97",
   "metadata": {},
   "outputs": [],
   "source": []
  }
 ],
 "metadata": {
  "kernelspec": {
   "display_name": "Py 3.7 HN sparql",
   "language": "python",
   "name": "py37_hn_sparql"
  },
  "language_info": {
   "codemirror_mode": {
    "name": "ipython",
    "version": 3
   },
   "file_extension": ".py",
   "mimetype": "text/x-python",
   "name": "python",
   "nbconvert_exporter": "python",
   "pygments_lexer": "ipython3",
   "version": "3.7.8"
  }
 },
 "nbformat": 4,
 "nbformat_minor": 5
}
